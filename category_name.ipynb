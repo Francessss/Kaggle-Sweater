{
 "cells": [
  {
   "cell_type": "code",
   "execution_count": 24,
   "metadata": {},
   "outputs": [],
   "source": [
    "import csv\n",
    "import pandas as pd\n"
   ]
  },
  {
   "cell_type": "code",
   "execution_count": 20,
   "metadata": {},
   "outputs": [],
   "source": [
    "dat=pd.read_table(\"/Users/siyuwang/Desktop/train.tsv\",sep='\\t')\n",
    "dat1=pd.read_table(\"/Users/siyuwang/Desktop/test.tsv\",sep='\\t')\n",
    "dat=pd.DataFrame(dat)\n",
    "dat1=pd.DataFrame(dat1)"
   ]
  },
  {
   "cell_type": "code",
   "execution_count": 25,
   "metadata": {},
   "outputs": [],
   "source": [
    "#dat.head(4)"
   ]
  },
  {
   "cell_type": "code",
   "execution_count": 13,
   "metadata": {},
   "outputs": [
    {
     "data": {
      "text/html": [
       "<div>\n",
       "<style>\n",
       "    .dataframe thead tr:only-child th {\n",
       "        text-align: right;\n",
       "    }\n",
       "\n",
       "    .dataframe thead th {\n",
       "        text-align: left;\n",
       "    }\n",
       "\n",
       "    .dataframe tbody tr th {\n",
       "        vertical-align: top;\n",
       "    }\n",
       "</style>\n",
       "<table border=\"1\" class=\"dataframe\">\n",
       "  <thead>\n",
       "    <tr style=\"text-align: right;\">\n",
       "      <th></th>\n",
       "      <th>0</th>\n",
       "    </tr>\n",
       "  </thead>\n",
       "  <tbody>\n",
       "    <tr>\n",
       "      <th>Women</th>\n",
       "      <td>683360</td>\n",
       "    </tr>\n",
       "    <tr>\n",
       "      <th>Beauty</th>\n",
       "      <td>207828</td>\n",
       "    </tr>\n",
       "    <tr>\n",
       "      <th>Kids</th>\n",
       "      <td>171796</td>\n",
       "    </tr>\n",
       "    <tr>\n",
       "      <th>Athletic Apparel</th>\n",
       "      <td>134422</td>\n",
       "    </tr>\n",
       "    <tr>\n",
       "      <th>Shoes</th>\n",
       "      <td>132620</td>\n",
       "    </tr>\n",
       "    <tr>\n",
       "      <th>Electronics</th>\n",
       "      <td>126318</td>\n",
       "    </tr>\n",
       "    <tr>\n",
       "      <th>Makeup</th>\n",
       "      <td>124624</td>\n",
       "    </tr>\n",
       "    <tr>\n",
       "      <th>Other</th>\n",
       "      <td>115592</td>\n",
       "    </tr>\n",
       "    <tr>\n",
       "      <th>Tops &amp; Blouses</th>\n",
       "      <td>107967</td>\n",
       "    </tr>\n",
       "    <tr>\n",
       "      <th>Men</th>\n",
       "      <td>95967</td>\n",
       "    </tr>\n",
       "  </tbody>\n",
       "</table>\n",
       "</div>"
      ],
      "text/plain": [
       "                       0\n",
       "Women             683360\n",
       "Beauty            207828\n",
       "Kids              171796\n",
       "Athletic Apparel  134422\n",
       "Shoes             132620\n",
       "Electronics       126318\n",
       "Makeup            124624\n",
       "Other             115592\n",
       "Tops & Blouses    107967\n",
       "Men                95967"
      ]
     },
     "execution_count": 13,
     "metadata": {},
     "output_type": "execute_result"
    }
   ],
   "source": [
    "## category_name\n",
    "category_name= dat['category_name'].str.split('/')\n",
    "category_name_set=[]\n",
    "for i in category_name.dropna():\n",
    "    category_name_set.extend(i)\n",
    "plt1=pd.Series(category_name_set).value_counts().sort_values(ascending=False).to_frame()\n",
    "plt1.head(10)"
   ]
  },
  {
   "cell_type": "code",
   "execution_count": null,
   "metadata": {},
   "outputs": [],
   "source": []
  }
 ],
 "metadata": {
  "kernelspec": {
   "display_name": "Python 2",
   "language": "python",
   "name": "python2"
  },
  "language_info": {
   "codemirror_mode": {
    "name": "ipython",
    "version": 2
   },
   "file_extension": ".py",
   "mimetype": "text/x-python",
   "name": "python",
   "nbconvert_exporter": "python",
   "pygments_lexer": "ipython2",
   "version": "2.7.13"
  }
 },
 "nbformat": 4,
 "nbformat_minor": 2
}
