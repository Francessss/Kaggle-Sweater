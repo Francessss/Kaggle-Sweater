{
 "cells": [
  {
   "cell_type": "code",
   "execution_count": 4,
   "metadata": {
    "collapsed": true
   },
   "outputs": [],
   "source": [
    "import pandas as pd\n",
    "import numpy as np\n",
    "\n",
    "test =  pd.read_table('/Users/Yifan/Downloads/test.tsv', sep='\\t')\n",
    "train = pd.read_table('/Users/Yifan/Downloads/train.tsv', sep='\\t')"
   ]
  },
  {
   "cell_type": "code",
   "execution_count": 10,
   "metadata": {},
   "outputs": [
    {
     "data": {
      "text/plain": [
       "train_id               int64\n",
       "name                  object\n",
       "item_condition_id      int64\n",
       "category_name         object\n",
       "brand_name            object\n",
       "price                float64\n",
       "shipping               int64\n",
       "item_description      object\n",
       "dtype: object"
      ]
     },
     "execution_count": 10,
     "metadata": {},
     "output_type": "execute_result"
    }
   ],
   "source": [
    "from wordcloud import WordCloud\n",
    "\n",
    "train.dtypes"
   ]
  },
  {
   "cell_type": "code",
   "execution_count": 20,
   "metadata": {},
   "outputs": [
    {
     "name": "stdout",
     "output_type": "stream",
     "text": [
      "('train_id, Number of Missing Values:', 0)\n",
      "('name, Number of Missing Values:', 0)\n",
      "('item_condition_id, Number of Missing Values:', 0)\n",
      "('category_name, Number of Missing Values:', 6327)\n",
      "('brand_name, Number of Missing Values:', 632682)\n",
      "('price, Number of Missing Values:', 0)\n",
      "('shipping, Number of Missing Values:', 0)\n",
      "('item_description, Number of Missing Values:', 4)\n"
     ]
    }
   ],
   "source": [
    "for col in train.columns:\n",
    "    print (col + ', Number of Missing Values:', len(train[col][train[col].isnull()]))"
   ]
  }
 ],
 "metadata": {
  "kernelspec": {
   "display_name": "Python 2",
   "language": "python",
   "name": "python2"
  },
  "language_info": {
   "codemirror_mode": {
    "name": "ipython",
    "version": 2
   },
   "file_extension": ".py",
   "mimetype": "text/x-python",
   "name": "python",
   "nbconvert_exporter": "python",
   "pygments_lexer": "ipython2",
   "version": "2.7.13"
  }
 },
 "nbformat": 4,
 "nbformat_minor": 2
}
